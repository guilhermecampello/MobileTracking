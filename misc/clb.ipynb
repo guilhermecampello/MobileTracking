{
 "cells": [
  {
   "cell_type": "code",
   "execution_count": 1,
   "metadata": {},
   "outputs": [
    {
     "data": {
      "text/plain": [
       "array([[<matplotlib.axes._subplots.AxesSubplot object at 0x0000021D85B95BC8>,\n",
       "        <matplotlib.axes._subplots.AxesSubplot object at 0x0000021D863A33C8>,\n",
       "        <matplotlib.axes._subplots.AxesSubplot object at 0x0000021D863DE1C8>,\n",
       "        <matplotlib.axes._subplots.AxesSubplot object at 0x0000021D864153C8>],\n",
       "       [<matplotlib.axes._subplots.AxesSubplot object at 0x0000021D8644D588>,\n",
       "        <matplotlib.axes._subplots.AxesSubplot object at 0x0000021D864856C8>,\n",
       "        <matplotlib.axes._subplots.AxesSubplot object at 0x0000021D864BD8C8>,\n",
       "        <matplotlib.axes._subplots.AxesSubplot object at 0x0000021D864F5A88>]],\n",
       "      dtype=object)"
      ]
     },
     "execution_count": 1,
     "metadata": {},
     "output_type": "execute_result"
    },
    {
     "data": {
      "image/png": "[encoded data removed]",
      "text/plain": [
       "<Figure size 1080x432 with 8 Axes>"
      ]
     },
     "metadata": {
      "needs_background": "light"
     },
     "output_type": "display_data"
    }
   ],
   "source": [
    "import pandas\n",
    "\n",
    "import pandas as pd\n",
    "\n",
    "data = pd.read_csv(\"calibrations.csv\")\n",
    "\n",
    "data.hist(figsize=(15, 6), layout=(2, 4))"
   ]
  },
  {
   "cell_type": "code",
   "execution_count": null,
   "metadata": {},
   "outputs": [],
   "source": []
  },
  {
   "cell_type": "code",
   "execution_count": null,
   "metadata": {},
   "outputs": [],
   "source": []
  },
  {
   "cell_type": "code",
   "execution_count": null,
   "metadata": {},
   "outputs": [],
   "source": []
  },
  {
   "cell_type": "code",
   "execution_count": null,
   "metadata": {},
   "outputs": [],
   "source": []
  }
 ],
 "metadata": {
  "kernelspec": {
   "display_name": "Python 3",
   "language": "python",
   "name": "python3"
  },
  "language_info": {
   "codemirror_mode": {
    "name": "ipython",
    "version": 3
   },
   "file_extension": ".py",
   "mimetype": "text/x-python",
   "name": "python",
   "nbconvert_exporter": "python",
   "pygments_lexer": "ipython3",
   "version": "3.7.6"
  }
 },
 "nbformat": 4,
 "nbformat_minor": 4
}
